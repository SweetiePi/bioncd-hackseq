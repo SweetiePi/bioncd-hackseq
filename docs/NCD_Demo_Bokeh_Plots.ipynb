{
 "cells": [
  {
   "cell_type": "markdown",
   "metadata": {},
   "source": [
    "# Demo for applying NCD towards biological data"
   ]
  },
  {
   "cell_type": "markdown",
   "metadata": {},
   "source": [
    "This demo showcases a sample NCD calculation, as well as what the output of our compression pipeline should look like. Here we use the Lempel-Ziv Markov Algorihtm (LZMA) as our compression tool."
   ]
  },
  {
   "cell_type": "code",
   "execution_count": 1,
   "metadata": {},
   "outputs": [],
   "source": [
    "import sys\n",
    "sys.path.append('../scripts')\n",
    "#call Python script\n",
    "import pairwise_ncd\n",
    "#import matrix handling tools\n",
    "import numpy as np\n",
    "import pandas as pd\n",
    "import csv\n",
    "#import kmeans clustering\n",
    "from sklearn.cluster import KMeans"
   ]
  },
  {
   "cell_type": "markdown",
   "metadata": {},
   "source": [
    "## Input sample sequences (2 for the purposes of this demo)"
   ]
  },
  {
   "cell_type": "markdown",
   "metadata": {},
   "source": [
    "Sample sequences are \"mystery\" bacterial genomes of unknown taxonomy. We'll use these to test our pipeline."
   ]
  },
  {
   "cell_type": "code",
   "execution_count": 2,
   "metadata": {},
   "outputs": [],
   "source": [
    "with open (\"../test_dataset/mysteryGenome_1.fasta\", \"r\") as file:\n",
    "    seq1 = file.read()\n",
    "with open (\"../test_dataset/mysteryGenome_2.fasta\", \"r\") as file:\n",
    "    seq2 = file.read()"
   ]
  },
  {
   "cell_type": "markdown",
   "metadata": {},
   "source": [
    "## Determine the size of uncompressed sequences"
   ]
  },
  {
   "cell_type": "code",
   "execution_count": 3,
   "metadata": {},
   "outputs": [
    {
     "name": "stdout",
     "output_type": "stream",
     "text": [
      "Size of Sequence 1: 4507943 bytes\n",
      "Size of Sequence 2: 4474285 bytes\n",
      "Size of concatenated Sequence 1 & Sequence 2: 8982195 bytes\n"
     ]
    }
   ],
   "source": [
    "sequences12 = pairwise_ncd.return_byte(seq1,seq2)\n",
    "print(\"Size of Sequence 1: %s bytes\" % (sys.getsizeof(sequences12[0]),))\n",
    "print(\"Size of Sequence 2: %s bytes\" % (sys.getsizeof(sequences12[1]),))\n",
    "print(\"Size of concatenated Sequence 1 & Sequence 2: %s bytes\" % (sys.getsizeof(sequences12[2]),))"
   ]
  },
  {
   "cell_type": "markdown",
   "metadata": {},
   "source": [
    "Our sequences are pretty similar in size, concatenating both of them together approximately doubles their size, which is to be expected."
   ]
  },
  {
   "cell_type": "markdown",
   "metadata": {},
   "source": [
    "## Now determine size of compressed sequences"
   ]
  },
  {
   "cell_type": "code",
   "execution_count": 4,
   "metadata": {},
   "outputs": [
    {
     "name": "stdout",
     "output_type": "stream",
     "text": [
      "Sequence 1: 1174721 bytes\n",
      "Sequence 2: 1173133 bytes\n",
      "Concatenated Sequences 1 & 2: 1242873 bytes\n"
     ]
    }
   ],
   "source": [
    "#Our compression algorithm is the rate-limiting step in this pipeline.\n",
    "sizes12 = pairwise_ncd.compressed_size(sequences12)\n",
    "print(\"Sequence 1: %s bytes\" % (sizes12[0],))\n",
    "print(\"Sequence 2: %s bytes\" % (sizes12[1],))\n",
    "print(\"Concatenated Sequences 1 & 2: %s bytes\" % (sizes12[2],))"
   ]
  },
  {
   "cell_type": "markdown",
   "metadata": {},
   "source": [
    "Our original sequences are compressed to 1/4 of their original size, but our concatenated sequence shrunk by a factor of 8! A good sign that our choice of compression algorithm is working well."
   ]
  },
  {
   "cell_type": "markdown",
   "metadata": {},
   "source": [
    "## Computing NCD values"
   ]
  },
  {
   "cell_type": "code",
   "execution_count": 5,
   "metadata": {},
   "outputs": [
    {
     "name": "stdout",
     "output_type": "stream",
     "text": [
      "NCD12 = 0.05936728806244206\n"
     ]
    }
   ],
   "source": [
    "ncd12 = pairwise_ncd.compute_distance(sizes12[0], sizes12[1], sizes12[2])\n",
    "print(\"NCD12 = %s\" % (ncd12,))"
   ]
  },
  {
   "cell_type": "markdown",
   "metadata": {},
   "source": [
    "All NCD does is return a value between 0 and 1. The closer it is to 0, the more similar both inputs are to each other (conversely, closer to 1 = more distant). We'll now skip forward and provide a matrix for all pairwise combinations of our 8 mystery genomes."
   ]
  },
  {
   "cell_type": "markdown",
   "metadata": {},
   "source": [
    "## Distance Matrix of NCD values"
   ]
  },
  {
   "cell_type": "code",
   "execution_count": 6,
   "metadata": {},
   "outputs": [
    {
     "name": "stdout",
     "output_type": "stream",
     "text": [
      "   mysteryGenome_1  mysteryGenome_2  mysteryGenome_3  mysteryGenome_4  \\\n",
      "0         0.000637         0.059367         0.056388         0.074164   \n",
      "1         0.059367         0.000624         0.065503         0.086240   \n",
      "2         0.056388         0.065503         0.000625         0.085386   \n",
      "3         0.074164         0.086240         0.085386         0.000623   \n",
      "4         0.042029         0.052851         0.050750         0.072299   \n",
      "5         0.061301         0.069963         0.063825         0.081414   \n",
      "6         0.076284         0.058378         0.045924         0.074232   \n",
      "7         0.033826         0.061723         0.045454         0.069501   \n",
      "\n",
      "   mysteryGenome_5  mysteryGenome_6  mysteryGenome_7  mysteryGenome_8  \n",
      "0         0.042029         0.061301         0.076284         0.033826  \n",
      "1         0.052851         0.069963         0.058378         0.061723  \n",
      "2         0.050750         0.063825         0.045924         0.045454  \n",
      "3         0.072299         0.081414         0.074232         0.069501  \n",
      "4         0.000627         0.057830         0.055429         0.049105  \n",
      "5         0.057830         0.000624         0.061444         0.047943  \n",
      "6         0.055429         0.061444         0.000627         0.034667  \n",
      "7         0.049105         0.047943         0.034667         0.000627  \n"
     ]
    }
   ],
   "source": [
    "distance_matrix = pd.read_csv('../test_dataset/distance_matrix_mysteryGenome1-8.csv', sep=',',header=0)\n",
    "print(distance_matrix)"
   ]
  },
  {
   "cell_type": "markdown",
   "metadata": {},
   "source": [
    "In theory we should have 0's across the diagonal since both sequences are exactly the same, but our matrix shows that is not the case. This is because our NCD computation isn't a perfect measure of similairty, it's an approximation. In this case, values across the diagonal are 3 orders of magnitude smaller than all the rest, which will work just fine for our needs.\n",
    "\n",
    "Now that we have a nice distance matrix, let's perform K-means clustering!"
   ]
  },
  {
   "cell_type": "markdown",
   "metadata": {},
   "source": [
    "## K-means - Clustering"
   ]
  },
  {
   "cell_type": "markdown",
   "metadata": {},
   "source": [
    "K-means is a simple & popular method of clustering that requries you to pre-specify the number of clusters beforehand. Let's use k = 2 and see if we can find if one of our sequences is noticeably different from all others."
   ]
  },
  {
   "cell_type": "code",
   "execution_count": 7,
   "metadata": {},
   "outputs": [
    {
     "name": "stdout",
     "output_type": "stream",
     "text": [
      "[0 0 0 1 0 0 0 0]\n"
     ]
    }
   ],
   "source": [
    "kmeans = KMeans(n_clusters=2).fit(distance_matrix)\n",
    "y_kmeans = kmeans.predict(distance_matrix)\n",
    "print(y_kmeans)\n",
    "\n"
   ]
  },
  {
   "cell_type": "markdown",
   "metadata": {},
   "source": [
    "K-means recognizes MysteryGenome4 as our outlier. Let's get a more detailed visualization..."
   ]
  },
  {
   "cell_type": "code",
   "execution_count": 12,
   "metadata": {},
   "outputs": [
    {
     "data": {
      "image/png": "[encoded data removed]",
      "text/plain": [
       "<Figure size 432x288 with 1 Axes>"
      ]
     },
     "metadata": {
      "needs_background": "light"
     },
     "output_type": "display_data"
    }
   ],
   "source": [
    "import matplotlib.pyplot as plt\n",
    "from sklearn.decomposition import PCA\n",
    "\n",
    "#principal component analysis used to visualize results into a 2D grid\n",
    "pca = PCA(n_components=2)\n",
    "X = pca.fit_transform(distance_matrix)\n",
    "\n",
    "plt.scatter(X[:, 0], X[:, 1], c=y_kmeans, s=100)\n",
    "plt.show();\n",
    "\n"
   ]
  },
  {
   "cell_type": "code",
   "execution_count": 9,
   "metadata": {},
   "outputs": [
    {
     "name": "stdout",
     "output_type": "stream",
     "text": [
      "   mysteryGenome_1  mysteryGenome_2  mysteryGenome_3  mysteryGenome_4  \\\n",
      "0         0.000637         0.059367         0.056388         0.074164   \n",
      "1         0.059367         0.000624         0.065503         0.086240   \n",
      "2         0.056388         0.065503         0.000625         0.085386   \n",
      "3         0.074164         0.086240         0.085386         0.000623   \n",
      "4         0.042029         0.052851         0.050750         0.072299   \n",
      "5         0.061301         0.069963         0.063825         0.081414   \n",
      "6         0.076284         0.058378         0.045924         0.074232   \n",
      "7         0.033826         0.061723         0.045454         0.069501   \n",
      "\n",
      "   mysteryGenome_5  mysteryGenome_6  mysteryGenome_7  mysteryGenome_8  \n",
      "0         0.042029         0.061301         0.076284         0.033826  \n",
      "1         0.052851         0.069963         0.058378         0.061723  \n",
      "2         0.050750         0.063825         0.045924         0.045454  \n",
      "3         0.072299         0.081414         0.074232         0.069501  \n",
      "4         0.000627         0.057830         0.055429         0.049105  \n",
      "5         0.057830         0.000624         0.061444         0.047943  \n",
      "6         0.055429         0.061444         0.000627         0.034667  \n",
      "7         0.049105         0.047943         0.034667         0.000627  \n"
     ]
    }
   ],
   "source": [
    "print(distance_matrix)"
   ]
  },
  {
   "cell_type": "markdown",
   "metadata": {},
   "source": [
    "Looks good, although labels and a better visualization are required."
   ]
  },
  {
   "cell_type": "code",
   "execution_count": 10,
   "metadata": {},
   "outputs": [
    {
     "data": {
      "image/png": "[encoded data removed]",
      "text/plain": [
       "<Figure size 432x288 with 1 Axes>"
      ]
     },
     "metadata": {
      "needs_background": "light"
     },
     "output_type": "display_data"
    }
   ],
   "source": [
    "from sklearn.manifold import TSNE\n",
    "tsne = TSNE(n_components=2, random_state=0, perplexity=50, n_iter=300)\n",
    "\n",
    "X_2d = tsne.fit_transform(distance_matrix)\n",
    "\n",
    "plt.scatter(X_2d[:, 0], X_2d[:, 1], c=y_kmeans, s=100)\n",
    "plt.show();\n"
   ]
  },
  {
   "cell_type": "markdown",
   "metadata": {},
   "source": [
    "# Bokeh Plots"
   ]
  },
  {
   "cell_type": "code",
   "execution_count": 11,
   "metadata": {},
   "outputs": [
    {
     "data": {
      "text/html": [
       "\n",
       "    <div class=\"bk-root\">\n",
       "        <a href=\"https://bokeh.pydata.org\" target=\"_blank\" class=\"bk-logo bk-logo-small bk-logo-notebook\"></a>\n",
       "        <span id=\"38b4bbbb-7166-4e23-b5f3-8bfc35ece84e\">Loading BokehJS ...</span>\n",
       "    </div>"
      ]
     },
     "metadata": {},
     "output_type": "display_data"
    },
    {
     "data": {
      "application/javascript": [
       "\n",
       "(function(root) {\n",
       "  function now() {\n",
       "    return new Date();\n",
       "  }\n",
       "\n",
       "  var force = true;\n",
       "\n",
       "  if (typeof (root._bokeh_onload_callbacks) === \"undefined\" || force === true) {\n",
       "    root._bokeh_onload_callbacks = [];\n",
       "    root._bokeh_is_loading = undefined;\n",
       "  }\n",
       "\n",
       "  var JS_MIME_TYPE = 'application/javascript';\n",
       "  var HTML_MIME_TYPE = 'text/html';\n",
       "  var EXEC_MIME_TYPE = 'application/vnd.bokehjs_exec.v0+json';\n",
       "  var CLASS_NAME = 'output_bokeh rendered_html';\n",
       "\n",
       "  /**\n",
       "   * Render data to the DOM node\n",
       "   */\n",
       "  function render(props, node) {\n",
       "    var script = document.createElement(\"script\");\n",
       "    node.appendChild(script);\n",
       "  }\n",
       "\n",
       "  /**\n",
       "   * Handle when an output is cleared or removed\n",
       "   */\n",
       "  function handleClearOutput(event, handle) {\n",
       "    var cell = handle.cell;\n",
       "\n",
       "    var id = cell.output_area._bokeh_element_id;\n",
       "    var server_id = cell.output_area._bokeh_server_id;\n",
       "    // Clean up Bokeh references\n",
       "    if (id != null && id in Bokeh.index) {\n",
       "      Bokeh.index[id].model.document.clear();\n",
       "      delete Bokeh.index[id];\n",
       "    }\n",
       "\n",
       "    if (server_id !== undefined) {\n",
       "      // Clean up Bokeh references\n",
       "      var cmd = \"from bokeh.io.state import curstate; print(curstate().uuid_to_server['\" + server_id + \"'].get_sessions()[0].document.roots[0]._id)\";\n",
       "      cell.notebook.kernel.execute(cmd, {\n",
       "        iopub: {\n",
       "          output: function(msg) {\n",
       "            var id = msg.content.text.trim();\n",
       "            if (id in Bokeh.index) {\n",
       "              Bokeh.index[id].model.document.clear();\n",
       "              delete Bokeh.index[id];\n",
       "            }\n",
       "          }\n",
       "        }\n",
       "      });\n",
       "      // Destroy server and session\n",
       "      var cmd = \"import bokeh.io.notebook as ion; ion.destroy_server('\" + server_id + \"')\";\n",
       "      cell.notebook.kernel.execute(cmd);\n",
       "    }\n",
       "  }\n",
       "\n",
       "  /**\n",
       "   * Handle when a new output is added\n",
       "   */\n",
       "  function handleAddOutput(event, handle) {\n",
       "    var output_area = handle.output_area;\n",
       "    var output = handle.output;\n",
       "\n",
       "    // limit handleAddOutput to display_data with EXEC_MIME_TYPE content only\n",
       "    if ((output.output_type != \"display_data\") || (!output.data.hasOwnProperty(EXEC_MIME_TYPE))) {\n",
       "      return\n",
       "    }\n",
       "\n",
       "    var toinsert = output_area.element.find(\".\" + CLASS_NAME.split(' ')[0]);\n",
       "\n",
       "    if (output.metadata[EXEC_MIME_TYPE][\"id\"] !== undefined) {\n",
       "      toinsert[toinsert.length - 1].firstChild.textContent = output.data[JS_MIME_TYPE];\n",
       "      // store reference to embed id on output_area\n",
       "      output_area._bokeh_element_id = output.metadata[EXEC_MIME_TYPE][\"id\"];\n",
       "    }\n",
       "    if (output.metadata[EXEC_MIME_TYPE][\"server_id\"] !== undefined) {\n",
       "      var bk_div = document.createElement(\"div\");\n",
       "      bk_div.innerHTML = output.data[HTML_MIME_TYPE];\n",
       "      var script_attrs = bk_div.children[0].attributes;\n",
       "      for (var i = 0; i < script_attrs.length; i++) {\n",
       "        toinsert[toinsert.length - 1].firstChild.setAttribute(script_attrs[i].name, script_attrs[i].value);\n",
       "      }\n",
       "      // store reference to server id on output_area\n",
       "      output_area._bokeh_server_id = output.metadata[EXEC_MIME_TYPE][\"server_id\"];\n",
       "    }\n",
       "  }\n",
       "\n",
       "  function register_renderer(events, OutputArea) {\n",
       "\n",
       "    function append_mime(data, metadata, element) {\n",
       "      // create a DOM node to render to\n",
       "      var toinsert = this.create_output_subarea(\n",
       "        metadata,\n",
       "        CLASS_NAME,\n",
       "        EXEC_MIME_TYPE\n",
       "      );\n",
       "      this.keyboard_manager.register_events(toinsert);\n",
       "      // Render to node\n",
       "      var props = {data: data, metadata: metadata[EXEC_MIME_TYPE]};\n",
       "      render(props, toinsert[toinsert.length - 1]);\n",
       "      element.append(toinsert);\n",
       "      return toinsert\n",
       "    }\n",
       "\n",
       "    /* Handle when an output is cleared or removed */\n",
       "    events.on('clear_output.CodeCell', handleClearOutput);\n",
       "    events.on('delete.Cell', handleClearOutput);\n",
       "\n",
       "    /* Handle when a new output is added */\n",
       "    events.on('output_added.OutputArea', handleAddOutput);\n",
       "\n",
       "    /**\n",
       "     * Register the mime type and append_mime function with output_area\n",
       "     */\n",
       "    OutputArea.prototype.register_mime_type(EXEC_MIME_TYPE, append_mime, {\n",
       "      /* Is output safe? */\n",
       "      safe: true,\n",
       "      /* Index of renderer in `output_area.display_order` */\n",
       "      index: 0\n",
       "    });\n",
       "  }\n",
       "\n",
       "  // register the mime type if in Jupyter Notebook environment and previously unregistered\n",
       "  if (root.Jupyter !== undefined) {\n",
       "    var events = require('base/js/events');\n",
       "    var OutputArea = require('notebook/js/outputarea').OutputArea;\n",
       "\n",
       "    if (OutputArea.prototype.mime_types().indexOf(EXEC_MIME_TYPE) == -1) {\n",
       "      register_renderer(events, OutputArea);\n",
       "    }\n",
       "  }\n",
       "\n",
       "  \n",
       "  if (typeof (root._bokeh_timeout) === \"undefined\" || force === true) {\n",
       "    root._bokeh_timeout = Date.now() + 5000;\n",
       "    root._bokeh_failed_load = false;\n",
       "  }\n",
       "\n",
       "  var NB_LOAD_WARNING = {'data': {'text/html':\n",
       "     \"<div style='background-color: #fdd'>\\n\"+\n",
       "     \"<p>\\n\"+\n",
       "     \"BokehJS does not appear to have successfully loaded. If loading BokehJS from CDN, this \\n\"+\n",
       "     \"may be due to a slow or bad network connection. Possible fixes:\\n\"+\n",
       "     \"</p>\\n\"+\n",
       "     \"<ul>\\n\"+\n",
       "     \"<li>re-rerun `output_notebook()` to attempt to load from CDN again, or</li>\\n\"+\n",
       "     \"<li>use INLINE resources instead, as so:</li>\\n\"+\n",
       "     \"</ul>\\n\"+\n",
       "     \"<code>\\n\"+\n",
       "     \"from bokeh.resources import INLINE\\n\"+\n",
       "     \"output_notebook(resources=INLINE)\\n\"+\n",
       "     \"</code>\\n\"+\n",
       "     \"</div>\"}};\n",
       "\n",
       "  function display_loaded() {\n",
       "    var el = document.getElementById(\"38b4bbbb-7166-4e23-b5f3-8bfc35ece84e\");\n",
       "    if (el != null) {\n",
       "      el.textContent = \"BokehJS is loading...\";\n",
       "    }\n",
       "    if (root.Bokeh !== undefined) {\n",
       "      if (el != null) {\n",
       "        el.textContent = \"BokehJS \" + root.Bokeh.version + \" successfully loaded.\";\n",
       "      }\n",
       "    } else if (Date.now() < root._bokeh_timeout) {\n",
       "      setTimeout(display_loaded, 100)\n",
       "    }\n",
       "  }\n",
       "\n",
       "\n",
       "  function run_callbacks() {\n",
       "    try {\n",
       "      root._bokeh_onload_callbacks.forEach(function(callback) { callback() });\n",
       "    }\n",
       "    finally {\n",
       "      delete root._bokeh_onload_callbacks\n",
       "    }\n",
       "    console.info(\"Bokeh: all callbacks have finished\");\n",
       "  }\n",
       "\n",
       "  function load_libs(js_urls, callback) {\n",
       "    root._bokeh_onload_callbacks.push(callback);\n",
       "    if (root._bokeh_is_loading > 0) {\n",
       "      console.log(\"Bokeh: BokehJS is being loaded, scheduling callback at\", now());\n",
       "      return null;\n",
       "    }\n",
       "    if (js_urls == null || js_urls.length === 0) {\n",
       "      run_callbacks();\n",
       "      return null;\n",
       "    }\n",
       "    console.log(\"Bokeh: BokehJS not loaded, scheduling load and callback at\", now());\n",
       "    root._bokeh_is_loading = js_urls.length;\n",
       "    for (var i = 0; i < js_urls.length; i++) {\n",
       "      var url = js_urls[i];\n",
       "      var s = document.createElement('script');\n",
       "      s.src = url;\n",
       "      s.async = false;\n",
       "      s.onreadystatechange = s.onload = function() {\n",
       "        root._bokeh_is_loading--;\n",
       "        if (root._bokeh_is_loading === 0) {\n",
       "          console.log(\"Bokeh: all BokehJS libraries loaded\");\n",
       "          run_callbacks()\n",
       "        }\n",
       "      };\n",
       "      s.onerror = function() {\n",
       "        console.warn(\"failed to load library \" + url);\n",
       "      };\n",
       "      console.log(\"Bokeh: injecting script tag for BokehJS library: \", url);\n",
       "      document.getElementsByTagName(\"head\")[0].appendChild(s);\n",
       "    }\n",
       "  };var element = document.getElementById(\"38b4bbbb-7166-4e23-b5f3-8bfc35ece84e\");\n",
       "  if (element == null) {\n",
       "    console.log(\"Bokeh: ERROR: autoload.js configured with elementid '38b4bbbb-7166-4e23-b5f3-8bfc35ece84e' but no matching script tag was found. \")\n",
       "    return false;\n",
       "  }\n",
       "\n",
       "  var js_urls = [\"https://cdn.pydata.org/bokeh/release/bokeh-0.13.0.min.js\", \"https://cdn.pydata.org/bokeh/release/bokeh-widgets-0.13.0.min.js\", \"https://cdn.pydata.org/bokeh/release/bokeh-tables-0.13.0.min.js\", \"https://cdn.pydata.org/bokeh/release/bokeh-gl-0.13.0.min.js\"];\n",
       "\n",
       "  var inline_js = [\n",
       "    function(Bokeh) {\n",
       "      Bokeh.set_log_level(\"info\");\n",
       "    },\n",
       "    \n",
       "    function(Bokeh) {\n",
       "      \n",
       "    },\n",
       "    function(Bokeh) {\n",
       "      console.log(\"Bokeh: injecting CSS: https://cdn.pydata.org/bokeh/release/bokeh-0.13.0.min.css\");\n",
       "      Bokeh.embed.inject_css(\"https://cdn.pydata.org/bokeh/release/bokeh-0.13.0.min.css\");\n",
       "      console.log(\"Bokeh: injecting CSS: https://cdn.pydata.org/bokeh/release/bokeh-widgets-0.13.0.min.css\");\n",
       "      Bokeh.embed.inject_css(\"https://cdn.pydata.org/bokeh/release/bokeh-widgets-0.13.0.min.css\");\n",
       "      console.log(\"Bokeh: injecting CSS: https://cdn.pydata.org/bokeh/release/bokeh-tables-0.13.0.min.css\");\n",
       "      Bokeh.embed.inject_css(\"https://cdn.pydata.org/bokeh/release/bokeh-tables-0.13.0.min.css\");\n",
       "    }\n",
       "  ];\n",
       "\n",
       "  function run_inline_js() {\n",
       "    \n",
       "    if ((root.Bokeh !== undefined) || (force === true)) {\n",
       "      for (var i = 0; i < inline_js.length; i++) {\n",
       "        inline_js[i].call(root, root.Bokeh);\n",
       "      }if (force === true) {\n",
       "        display_loaded();\n",
       "      }} else if (Date.now() < root._bokeh_timeout) {\n",
       "      setTimeout(run_inline_js, 100);\n",
       "    } else if (!root._bokeh_failed_load) {\n",
       "      console.log(\"Bokeh: BokehJS failed to load within specified timeout.\");\n",
       "      root._bokeh_failed_load = true;\n",
       "    } else if (force !== true) {\n",
       "      var cell = $(document.getElementById(\"38b4bbbb-7166-4e23-b5f3-8bfc35ece84e\")).parents('.cell').data().cell;\n",
       "      cell.output_area.append_execute_result(NB_LOAD_WARNING)\n",
       "    }\n",
       "\n",
       "  }\n",
       "\n",
       "  if (root._bokeh_is_loading === 0) {\n",
       "    console.log(\"Bokeh: BokehJS loaded, going straight to plotting\");\n",
       "    run_inline_js();\n",
       "  } else {\n",
       "    load_libs(js_urls, function() {\n",
       "      console.log(\"Bokeh: BokehJS plotting callback run at\", now());\n",
       "      run_inline_js();\n",
       "    });\n",
       "  }\n",
       "}(window));"
      ],
      "application/vnd.bokehjs_load.v0+json": "\n(function(root) {\n  function now() {\n    return new Date();\n  }\n\n  var force = true;\n\n  if (typeof (root._bokeh_onload_callbacks) === \"undefined\" || force === true) {\n    root._bokeh_onload_callbacks = [];\n    root._bokeh_is_loading = undefined;\n  }\n\n  \n\n  \n  if (typeof (root._bokeh_timeout) === \"undefined\" || force === true) {\n    root._bokeh_timeout = Date.now() + 5000;\n    root._bokeh_failed_load = false;\n  }\n\n  var NB_LOAD_WARNING = {'data': {'text/html':\n     \"<div style='background-color: #fdd'>\\n\"+\n     \"<p>\\n\"+\n     \"BokehJS does not appear to have successfully loaded. If loading BokehJS from CDN, this \\n\"+\n     \"may be due to a slow or bad network connection. Possible fixes:\\n\"+\n     \"</p>\\n\"+\n     \"<ul>\\n\"+\n     \"<li>re-rerun `output_notebook()` to attempt to load from CDN again, or</li>\\n\"+\n     \"<li>use INLINE resources instead, as so:</li>\\n\"+\n     \"</ul>\\n\"+\n     \"<code>\\n\"+\n     \"from bokeh.resources import INLINE\\n\"+\n     \"output_notebook(resources=INLINE)\\n\"+\n     \"</code>\\n\"+\n     \"</div>\"}};\n\n  function display_loaded() {\n    var el = document.getElementById(\"38b4bbbb-7166-4e23-b5f3-8bfc35ece84e\");\n    if (el != null) {\n      el.textContent = \"BokehJS is loading...\";\n    }\n    if (root.Bokeh !== undefined) {\n      if (el != null) {\n        el.textContent = \"BokehJS \" + root.Bokeh.version + \" successfully loaded.\";\n      }\n    } else if (Date.now() < root._bokeh_timeout) {\n      setTimeout(display_loaded, 100)\n    }\n  }\n\n\n  function run_callbacks() {\n    try {\n      root._bokeh_onload_callbacks.forEach(function(callback) { callback() });\n    }\n    finally {\n      delete root._bokeh_onload_callbacks\n    }\n    console.info(\"Bokeh: all callbacks have finished\");\n  }\n\n  function load_libs(js_urls, callback) {\n    root._bokeh_onload_callbacks.push(callback);\n    if (root._bokeh_is_loading > 0) {\n      console.log(\"Bokeh: BokehJS is being loaded, scheduling callback at\", now());\n      return null;\n    }\n    if (js_urls == null || js_urls.length === 0) {\n      run_callbacks();\n      return null;\n    }\n    console.log(\"Bokeh: BokehJS not loaded, scheduling load and callback at\", now());\n    root._bokeh_is_loading = js_urls.length;\n    for (var i = 0; i < js_urls.length; i++) {\n      var url = js_urls[i];\n      var s = document.createElement('script');\n      s.src = url;\n      s.async = false;\n      s.onreadystatechange = s.onload = function() {\n        root._bokeh_is_loading--;\n        if (root._bokeh_is_loading === 0) {\n          console.log(\"Bokeh: all BokehJS libraries loaded\");\n          run_callbacks()\n        }\n      };\n      s.onerror = function() {\n        console.warn(\"failed to load library \" + url);\n      };\n      console.log(\"Bokeh: injecting script tag for BokehJS library: \", url);\n      document.getElementsByTagName(\"head\")[0].appendChild(s);\n    }\n  };var element = document.getElementById(\"38b4bbbb-7166-4e23-b5f3-8bfc35ece84e\");\n  if (element == null) {\n    console.log(\"Bokeh: ERROR: autoload.js configured with elementid '38b4bbbb-7166-4e23-b5f3-8bfc35ece84e' but no matching script tag was found. \")\n    return false;\n  }\n\n  var js_urls = [\"https://cdn.pydata.org/bokeh/release/bokeh-0.13.0.min.js\", \"https://cdn.pydata.org/bokeh/release/bokeh-widgets-0.13.0.min.js\", \"https://cdn.pydata.org/bokeh/release/bokeh-tables-0.13.0.min.js\", \"https://cdn.pydata.org/bokeh/release/bokeh-gl-0.13.0.min.js\"];\n\n  var inline_js = [\n    function(Bokeh) {\n      Bokeh.set_log_level(\"info\");\n    },\n    \n    function(Bokeh) {\n      \n    },\n    function(Bokeh) {\n      console.log(\"Bokeh: injecting CSS: https://cdn.pydata.org/bokeh/release/bokeh-0.13.0.min.css\");\n      Bokeh.embed.inject_css(\"https://cdn.pydata.org/bokeh/release/bokeh-0.13.0.min.css\");\n      console.log(\"Bokeh: injecting CSS: https://cdn.pydata.org/bokeh/release/bokeh-widgets-0.13.0.min.css\");\n      Bokeh.embed.inject_css(\"https://cdn.pydata.org/bokeh/release/bokeh-widgets-0.13.0.min.css\");\n      console.log(\"Bokeh: injecting CSS: https://cdn.pydata.org/bokeh/release/bokeh-tables-0.13.0.min.css\");\n      Bokeh.embed.inject_css(\"https://cdn.pydata.org/bokeh/release/bokeh-tables-0.13.0.min.css\");\n    }\n  ];\n\n  function run_inline_js() {\n    \n    if ((root.Bokeh !== undefined) || (force === true)) {\n      for (var i = 0; i < inline_js.length; i++) {\n        inline_js[i].call(root, root.Bokeh);\n      }if (force === true) {\n        display_loaded();\n      }} else if (Date.now() < root._bokeh_timeout) {\n      setTimeout(run_inline_js, 100);\n    } else if (!root._bokeh_failed_load) {\n      console.log(\"Bokeh: BokehJS failed to load within specified timeout.\");\n      root._bokeh_failed_load = true;\n    } else if (force !== true) {\n      var cell = $(document.getElementById(\"38b4bbbb-7166-4e23-b5f3-8bfc35ece84e\")).parents('.cell').data().cell;\n      cell.output_area.append_execute_result(NB_LOAD_WARNING)\n    }\n\n  }\n\n  if (root._bokeh_is_loading === 0) {\n    console.log(\"Bokeh: BokehJS loaded, going straight to plotting\");\n    run_inline_js();\n  } else {\n    load_libs(js_urls, function() {\n      console.log(\"Bokeh: BokehJS plotting callback run at\", now());\n      run_inline_js();\n    });\n  }\n}(window));"
     },
     "metadata": {},
     "output_type": "display_data"
    },
    {
     "data": {
      "text/html": [
       "\n",
       "\n",
       "\n",
       "\n",
       "\n",
       "\n",
       "  <div class=\"bk-root\" id=\"86e063a6-3962-40d3-a29b-c124adc871d9\"></div>\n"
      ]
     },
     "metadata": {},
     "output_type": "display_data"
    },
    {
     "data": {
      "application/javascript": [
       "(function(root) {\n",
       "  function embed_document(root) {\n",
       "    \n",
       "  var docs_json = {\"b324ce7c-62a4-4381-9d91-7c5eb5da9c19\":{\"roots\":{\"references\":[{\"attributes\":{\"active_drag\":\"auto\",\"active_inspect\":\"auto\",\"active_multi\":null,\"active_scroll\":\"auto\",\"active_tap\":\"auto\",\"tools\":[{\"id\":\"74ad0249-4808-4fd0-9ea1-731f4eadd2b4\",\"type\":\"PanTool\"},{\"id\":\"21a78482-2280-4268-a19b-18a956202151\",\"type\":\"WheelZoomTool\"},{\"id\":\"a61d2501-22e0-4843-badc-1a3d3c42934d\",\"type\":\"BoxZoomTool\"},{\"id\":\"197170f2-525c-43b9-b374-90d98a092d15\",\"type\":\"SaveTool\"},{\"id\":\"3b95e7f6-9cc3-4c74-9abb-17d6ec0f49b6\",\"type\":\"ResetTool\"},{\"id\":\"c516c4bc-ecb0-41c2-9697-4fc1906aa4df\",\"type\":\"HelpTool\"},{\"id\":\"0f8c967f-4eb1-4867-b07d-407370d43cc2\",\"type\":\"HoverTool\"}]},\"id\":\"e2c43e56-975e-479e-bf32-e977977a92cd\",\"type\":\"Toolbar\"},{\"attributes\":{\"overlay\":{\"id\":\"b6fc4a65-fc38-4d50-b84d-1f8a3105afce\",\"type\":\"BoxAnnotation\"}},\"id\":\"fcd42e6f-82fd-4363-97ce-2690c20adb6e\",\"type\":\"BoxZoomTool\"},{\"attributes\":{\"callback\":null},\"id\":\"5030ade4-7794-4791-a388-6fa6f368c2c6\",\"type\":\"DataRange1d\"},{\"attributes\":{\"plot\":null,\"text\":\"tSNE\"},\"id\":\"a4c8fa72-6f20-4801-9247-f5d411ca33de\",\"type\":\"Title\"},{\"attributes\":{},\"id\":\"7697f28a-c4e0-4db8-9184-62ed93fe713f\",\"type\":\"SaveTool\"},{\"attributes\":{\"children\":[{\"id\":\"ac8673e2-ce45-4290-95b5-14b14073cb95\",\"type\":\"ToolbarBox\"},{\"id\":\"7d1187b0-2b2a-4481-9ddc-2ec2f2d7c186\",\"type\":\"Column\"}]},\"id\":\"828d98e0-e8c5-4f30-a4c9-cb1cc36925f3\",\"type\":\"Column\"},{\"attributes\":{},\"id\":\"fb5c0c8b-ed71-4f09-830c-933a242adc94\",\"type\":\"ResetTool\"},{\"attributes\":{\"formatter\":{\"id\":\"effbcae6-a768-4c3d-88a5-e762dd9d52c7\",\"type\":\"BasicTickFormatter\"},\"plot\":{\"id\":\"9747498e-688f-47bd-b486-868ae222a925\",\"subtype\":\"Figure\",\"type\":\"Plot\"},\"ticker\":{\"id\":\"ab8eb446-6705-409f-b09b-35ade71b69ee\",\"type\":\"BasicTicker\"}},\"id\":\"de80cf52-be3e-4e7b-8dbd-16e09f50a1dc\",\"type\":\"LinearAxis\"},{\"attributes\":{\"below\":[{\"id\":\"5080b69e-3da0-4aa6-8e70-ece1e240e9b4\",\"type\":\"LinearAxis\"}],\"left\":[{\"id\":\"60a85353-3697-4873-b776-7d28667c7fd7\",\"type\":\"LinearAxis\"}],\"plot_height\":400,\"plot_width\":400,\"renderers\":[{\"id\":\"5080b69e-3da0-4aa6-8e70-ece1e240e9b4\",\"type\":\"LinearAxis\"},{\"id\":\"a95839b2-db97-4143-96e1-eed176a54f04\",\"type\":\"Grid\"},{\"id\":\"60a85353-3697-4873-b776-7d28667c7fd7\",\"type\":\"LinearAxis\"},{\"id\":\"ca56f2a8-5ee6-4d9e-aec5-dc0cd217dfce\",\"type\":\"Grid\"},{\"id\":\"8b9271b3-ac26-4918-b541-15810beec9ca\",\"type\":\"BoxAnnotation\"},{\"id\":\"5be4a2df-cb73-485d-8eb6-b1e765dabe0f\",\"type\":\"GlyphRenderer\"}],\"title\":{\"id\":\"a4c8fa72-6f20-4801-9247-f5d411ca33de\",\"type\":\"Title\"},\"toolbar\":{\"id\":\"b7219c8b-8ff6-4d3b-81d1-987e7e36cda5\",\"type\":\"Toolbar\"},\"toolbar_location\":null,\"x_range\":{\"id\":\"d82ac207-30b6-4a33-b419-ff6933ecdfc5\",\"type\":\"DataRange1d\"},\"x_scale\":{\"id\":\"b3f80556-9cf2-4919-9981-451f10cb2298\",\"type\":\"LinearScale\"},\"y_range\":{\"id\":\"e4e8e397-2042-4cd6-985d-5f230c7fe40d\",\"type\":\"DataRange1d\"},\"y_scale\":{\"id\":\"74107092-5500-4d38-84c0-4f5e868991d2\",\"type\":\"LinearScale\"}},\"id\":\"473072b7-33e7-4a05-935e-3be3385871cc\",\"subtype\":\"Figure\",\"type\":\"Plot\"},{\"attributes\":{},\"id\":\"343512d9-a618-41d2-ad74-2be2250ebfb2\",\"type\":\"HelpTool\"},{\"attributes\":{\"callback\":null},\"id\":\"95244d50-12db-4442-8acc-a89bcf70b836\",\"type\":\"DataRange1d\"},{\"attributes\":{},\"id\":\"ab8eb446-6705-409f-b09b-35ade71b69ee\",\"type\":\"BasicTicker\"},{\"attributes\":{\"active_drag\":\"auto\",\"active_inspect\":\"auto\",\"active_multi\":null,\"active_scroll\":\"auto\",\"active_tap\":\"auto\",\"tools\":[{\"id\":\"fb252a81-c6a5-45a7-b320-27db7759f6d4\",\"type\":\"PanTool\"},{\"id\":\"e7a96597-25c8-4f5b-bf0c-bacd5951597a\",\"type\":\"WheelZoomTool\"},{\"id\":\"fcd42e6f-82fd-4363-97ce-2690c20adb6e\",\"type\":\"BoxZoomTool\"},{\"id\":\"7697f28a-c4e0-4db8-9184-62ed93fe713f\",\"type\":\"SaveTool\"},{\"id\":\"fb5c0c8b-ed71-4f09-830c-933a242adc94\",\"type\":\"ResetTool\"},{\"id\":\"343512d9-a618-41d2-ad74-2be2250ebfb2\",\"type\":\"HelpTool\"},{\"id\":\"66075120-5e72-410c-9084-4eb69cf302a9\",\"type\":\"HoverTool\"}]},\"id\":\"664e4c5c-a453-4efd-860a-3cd3e41123f3\",\"type\":\"Toolbar\"},{\"attributes\":{\"callback\":null,\"renderers\":\"auto\",\"tooltips\":[[\"Sequence\",\"$index\"],[\"(x,y)\",\"($x, $y)\"]]},\"id\":\"66075120-5e72-410c-9084-4eb69cf302a9\",\"type\":\"HoverTool\"},{\"attributes\":{\"children\":[{\"id\":\"42d35908-cda9-41cb-bce2-28a1a93b6e75\",\"subtype\":\"Figure\",\"type\":\"Plot\"},{\"id\":\"473072b7-33e7-4a05-935e-3be3385871cc\",\"subtype\":\"Figure\",\"type\":\"Plot\"}]},\"id\":\"23e18cb9-f0d9-48e1-9041-2f22f2646c79\",\"type\":\"Row\"},{\"attributes\":{},\"id\":\"21a78482-2280-4268-a19b-18a956202151\",\"type\":\"WheelZoomTool\"},{\"attributes\":{\"children\":[{\"id\":\"9747498e-688f-47bd-b486-868ae222a925\",\"subtype\":\"Figure\",\"type\":\"Plot\"},{\"id\":\"7b3e3cdd-667a-4221-82ca-38d2a7cdfdc7\",\"type\":\"Spacer\"}]},\"id\":\"3dee2ce3-5209-4109-94e8-bac51a5c33cc\",\"type\":\"Row\"},{\"attributes\":{},\"id\":\"197170f2-525c-43b9-b374-90d98a092d15\",\"type\":\"SaveTool\"},{\"attributes\":{\"callback\":null,\"data\":{\"fill_color\":[\"#0f0\",\"#0f0\",\"#0f0\",\"#00f\",\"#0f0\",\"#0f0\",\"#0f0\",\"#0f0\"],\"line_color\":[\"#0f0\",\"#0f0\",\"#0f0\",\"#00f\",\"#0f0\",\"#0f0\",\"#0f0\",\"#0f0\"],\"x\":{\"__ndarray__\":\"H8+uwCFnX8C4DGvAGtTBwJ6wjMCwNJnA4bGOwP31pcA=\",\"dtype\":\"float32\",\"shape\":[8]},\"y\":{\"__ndarray__\":\"CYYiQUUUIUFmMQlBr1MUQaL6JUF4mxFBE4X7QCwBBkE=\",\"dtype\":\"float32\",\"shape\":[8]}},\"selected\":{\"id\":\"8f2171c7-2b39-4a5a-9569-7370b3236f93\",\"type\":\"Selection\"},\"selection_policy\":{\"id\":\"157a1df5-3103-4d8e-a187-5f7972763662\",\"type\":\"UnionRenderers\"}},\"id\":\"9161bc4d-f439-4a77-b788-5efa7d8ac129\",\"type\":\"ColumnDataSource\"},{\"attributes\":{\"children\":[{\"id\":\"23e18cb9-f0d9-48e1-9041-2f22f2646c79\",\"type\":\"Row\"},{\"id\":\"3dee2ce3-5209-4109-94e8-bac51a5c33cc\",\"type\":\"Row\"}]},\"id\":\"7d1187b0-2b2a-4481-9ddc-2ec2f2d7c186\",\"type\":\"Column\"},{\"attributes\":{\"overlay\":{\"id\":\"220e4197-022c-4be8-bf49-0f7241756995\",\"type\":\"BoxAnnotation\"}},\"id\":\"a61d2501-22e0-4843-badc-1a3d3c42934d\",\"type\":\"BoxZoomTool\"},{\"attributes\":{\"fill_alpha\":{\"value\":0.5},\"fill_color\":{\"field\":\"fill_color\"},\"line_alpha\":{\"value\":0.5},\"line_color\":{\"field\":\"line_color\"},\"size\":{\"units\":\"screen\",\"value\":10},\"x\":{\"field\":\"x\"},\"y\":{\"field\":\"y\"}},\"id\":\"6692f0b0-d1e2-43f2-add0-0aac4f198330\",\"type\":\"Circle\"},{\"attributes\":{\"bottom_units\":\"screen\",\"fill_alpha\":{\"value\":0.5},\"fill_color\":{\"value\":\"lightgrey\"},\"left_units\":\"screen\",\"level\":\"overlay\",\"line_alpha\":{\"value\":1.0},\"line_color\":{\"value\":\"black\"},\"line_dash\":[4,4],\"line_width\":{\"value\":2},\"plot\":null,\"render_mode\":\"css\",\"right_units\":\"screen\",\"top_units\":\"screen\"},\"id\":\"220e4197-022c-4be8-bf49-0f7241756995\",\"type\":\"BoxAnnotation\"},{\"attributes\":{\"fill_alpha\":{\"value\":0.1},\"fill_color\":{\"value\":\"#1f77b4\"},\"line_alpha\":{\"value\":0.1},\"line_color\":{\"value\":\"#1f77b4\"},\"size\":{\"units\":\"screen\",\"value\":10},\"x\":{\"field\":\"x\"},\"y\":{\"field\":\"y\"}},\"id\":\"f4be6fe3-1026-46de-b764-dada7a5cd5ab\",\"type\":\"Circle\"},{\"attributes\":{},\"id\":\"3b95e7f6-9cc3-4c74-9abb-17d6ec0f49b6\",\"type\":\"ResetTool\"},{\"attributes\":{\"formatter\":{\"id\":\"c63703c8-d950-4c53-913d-cb3254df15ba\",\"type\":\"BasicTickFormatter\"},\"plot\":{\"id\":\"9747498e-688f-47bd-b486-868ae222a925\",\"subtype\":\"Figure\",\"type\":\"Plot\"},\"ticker\":{\"id\":\"a9c76c96-bf3f-4d62-a07c-39a2b81a8fdc\",\"type\":\"BasicTicker\"}},\"id\":\"d9b5e85a-5608-4cf6-86a5-ed0ec7a5eb20\",\"type\":\"LinearAxis\"},{\"attributes\":{\"data_source\":{\"id\":\"9161bc4d-f439-4a77-b788-5efa7d8ac129\",\"type\":\"ColumnDataSource\"},\"glyph\":{\"id\":\"6692f0b0-d1e2-43f2-add0-0aac4f198330\",\"type\":\"Circle\"},\"hover_glyph\":null,\"muted_glyph\":null,\"nonselection_glyph\":{\"id\":\"f4be6fe3-1026-46de-b764-dada7a5cd5ab\",\"type\":\"Circle\"},\"selection_glyph\":null,\"view\":{\"id\":\"e3b3b66d-6a67-42ab-90c1-b80ca6b74704\",\"type\":\"CDSView\"}},\"id\":\"c7e149a6-b5ae-4d11-858c-9ff943c393f1\",\"type\":\"GlyphRenderer\"},{\"attributes\":{},\"id\":\"c516c4bc-ecb0-41c2-9697-4fc1906aa4df\",\"type\":\"HelpTool\"},{\"attributes\":{},\"id\":\"fb252a81-c6a5-45a7-b320-27db7759f6d4\",\"type\":\"PanTool\"},{\"attributes\":{\"source\":{\"id\":\"9161bc4d-f439-4a77-b788-5efa7d8ac129\",\"type\":\"ColumnDataSource\"}},\"id\":\"e3b3b66d-6a67-42ab-90c1-b80ca6b74704\",\"type\":\"CDSView\"},{\"attributes\":{\"callback\":null,\"renderers\":\"auto\",\"tooltips\":[[\"Sequence\",\"$index\"],[\"(x,y)\",\"($x, $y)\"]]},\"id\":\"0f8c967f-4eb1-4867-b07d-407370d43cc2\",\"type\":\"HoverTool\"},{\"attributes\":{},\"id\":\"febf48a5-3487-4b27-9eb5-9d82665d8716\",\"type\":\"BasicTickFormatter\"},{\"attributes\":{},\"id\":\"2dc0c276-a4ee-4a12-820c-eca6f43f5dff\",\"type\":\"BasicTickFormatter\"},{\"attributes\":{},\"id\":\"a9c76c96-bf3f-4d62-a07c-39a2b81a8fdc\",\"type\":\"BasicTicker\"},{\"attributes\":{\"callback\":null,\"data\":{\"fill_color\":[\"#0f0\",\"#0f0\",\"#0f0\",\"#00f\",\"#0f0\",\"#0f0\",\"#0f0\",\"#0f0\"],\"line_color\":[\"#0f0\",\"#0f0\",\"#0f0\",\"#00f\",\"#0f0\",\"#0f0\",\"#0f0\",\"#0f0\"],\"x\":{\"__ndarray__\":\"XAiSzWv4g7+EtTkcY1J2vy9C6L2h4pu/3iL3HZzquD+aZshT9X2NvzuS1xaRx2G/RNkgLPNrir+dRU2pGQmavw==\",\"dtype\":\"float64\",\"shape\":[8]},\"y\":{\"__ndarray__\":\"3aSMf6iBqb9fyk19Z0CMv8Ze52nznJU/qWoIB9oudT8tbKHVj/2Xv2OaTRLVbGQ/D/iKQkD7qj/y+GEBPtF2Pw==\",\"dtype\":\"float64\",\"shape\":[8]}},\"selected\":{\"id\":\"0a934771-61c6-4300-b61c-668537eff74b\",\"type\":\"Selection\"},\"selection_policy\":{\"id\":\"a15ca67f-50f4-42f4-b992-848e5bc712b9\",\"type\":\"UnionRenderers\"}},\"id\":\"9b97ea3e-ab45-4df5-8917-becce515159a\",\"type\":\"ColumnDataSource\"},{\"attributes\":{},\"id\":\"a15ca67f-50f4-42f4-b992-848e5bc712b9\",\"type\":\"UnionRenderers\"},{\"attributes\":{},\"id\":\"effbcae6-a768-4c3d-88a5-e762dd9d52c7\",\"type\":\"BasicTickFormatter\"},{\"attributes\":{},\"id\":\"4d9b8404-a17b-45c8-acbc-bde35c8ec2c8\",\"type\":\"LinearScale\"},{\"attributes\":{},\"id\":\"e7a96597-25c8-4f5b-bf0c-bacd5951597a\",\"type\":\"WheelZoomTool\"},{\"attributes\":{\"bottom_units\":\"screen\",\"fill_alpha\":{\"value\":0.5},\"fill_color\":{\"value\":\"lightgrey\"},\"left_units\":\"screen\",\"level\":\"overlay\",\"line_alpha\":{\"value\":1.0},\"line_color\":{\"value\":\"black\"},\"line_dash\":[4,4],\"line_width\":{\"value\":2},\"plot\":null,\"render_mode\":\"css\",\"right_units\":\"screen\",\"top_units\":\"screen\"},\"id\":\"8b9271b3-ac26-4918-b541-15810beec9ca\",\"type\":\"BoxAnnotation\"},{\"attributes\":{},\"id\":\"3cde87a0-6aeb-402b-b233-640b3711dec8\",\"type\":\"PanTool\"},{\"attributes\":{},\"id\":\"54377965-c3d7-4972-bbc0-218c16439902\",\"type\":\"WheelZoomTool\"},{\"attributes\":{\"formatter\":{\"id\":\"febf48a5-3487-4b27-9eb5-9d82665d8716\",\"type\":\"BasicTickFormatter\"},\"plot\":{\"id\":\"42d35908-cda9-41cb-bce2-28a1a93b6e75\",\"subtype\":\"Figure\",\"type\":\"Plot\"},\"ticker\":{\"id\":\"7dd1df0d-65e4-4826-98fa-fa1ff2cb6a02\",\"type\":\"BasicTicker\"}},\"id\":\"d9d7fc8c-00d0-4f6b-81cb-e3f7f8a1e58a\",\"type\":\"LinearAxis\"},{\"attributes\":{\"overlay\":{\"id\":\"8b9271b3-ac26-4918-b541-15810beec9ca\",\"type\":\"BoxAnnotation\"}},\"id\":\"167c3896-b87a-4ac4-97b1-08b0775375c5\",\"type\":\"BoxZoomTool\"},{\"attributes\":{},\"id\":\"4406ce51-c8e0-4c39-a39d-4acd827a0204\",\"type\":\"SaveTool\"},{\"attributes\":{},\"id\":\"b158f5ba-d38e-405f-a48d-b0b6f5e3e684\",\"type\":\"ResetTool\"},{\"attributes\":{},\"id\":\"1748aaaf-0ebc-4636-b947-150b4d22f75b\",\"type\":\"HelpTool\"},{\"attributes\":{\"dimension\":1,\"plot\":{\"id\":\"473072b7-33e7-4a05-935e-3be3385871cc\",\"subtype\":\"Figure\",\"type\":\"Plot\"},\"ticker\":{\"id\":\"39e7470e-5d7a-4350-b6a2-49c11802e96c\",\"type\":\"BasicTicker\"}},\"id\":\"ca56f2a8-5ee6-4d9e-aec5-dc0cd217dfce\",\"type\":\"Grid\"},{\"attributes\":{\"bottom_units\":\"screen\",\"fill_alpha\":{\"value\":0.5},\"fill_color\":{\"value\":\"lightgrey\"},\"left_units\":\"screen\",\"level\":\"overlay\",\"line_alpha\":{\"value\":1.0},\"line_color\":{\"value\":\"black\"},\"line_dash\":[4,4],\"line_width\":{\"value\":2},\"plot\":null,\"render_mode\":\"css\",\"right_units\":\"screen\",\"top_units\":\"screen\"},\"id\":\"b6fc4a65-fc38-4d50-b84d-1f8a3105afce\",\"type\":\"BoxAnnotation\"},{\"attributes\":{\"callback\":null,\"renderers\":\"auto\",\"tooltips\":[[\"Sequence\",\"$index\"],[\"(x,y)\",\"($x, $y)\"]]},\"id\":\"627a6312-718b-4a26-b298-af1f0cd00fdc\",\"type\":\"HoverTool\"},{\"attributes\":{\"toolbar\":{\"id\":\"26776788-3e00-400b-9027-db3d5e863773\",\"type\":\"ProxyToolbar\"},\"toolbar_location\":\"above\"},\"id\":\"ac8673e2-ce45-4290-95b5-14b14073cb95\",\"type\":\"ToolbarBox\"},{\"attributes\":{\"dimension\":1,\"plot\":{\"id\":\"9747498e-688f-47bd-b486-868ae222a925\",\"subtype\":\"Figure\",\"type\":\"Plot\"},\"ticker\":{\"id\":\"ab8eb446-6705-409f-b09b-35ade71b69ee\",\"type\":\"BasicTicker\"}},\"id\":\"1ce7b48e-69be-4b2e-a00a-1f88813f5f64\",\"type\":\"Grid\"},{\"attributes\":{\"plot\":null,\"text\":\"PCA\"},\"id\":\"746c69c9-0af8-4c5e-aefa-b7c6a68dfada\",\"type\":\"Title\"},{\"attributes\":{\"callback\":null},\"id\":\"d82ac207-30b6-4a33-b419-ff6933ecdfc5\",\"type\":\"DataRange1d\"},{\"attributes\":{\"plot\":{\"id\":\"9747498e-688f-47bd-b486-868ae222a925\",\"subtype\":\"Figure\",\"type\":\"Plot\"},\"ticker\":{\"id\":\"a9c76c96-bf3f-4d62-a07c-39a2b81a8fdc\",\"type\":\"BasicTicker\"}},\"id\":\"dcc419d3-c01c-482f-93b1-ac6f45368f58\",\"type\":\"Grid\"},{\"attributes\":{\"callback\":null,\"data\":{\"fill_color\":[\"#0f0\",\"#0f0\",\"#0f0\",\"#00f\",\"#0f0\",\"#0f0\",\"#0f0\",\"#0f0\"],\"line_color\":[\"#0f0\",\"#0f0\",\"#0f0\",\"#00f\",\"#0f0\",\"#0f0\",\"#0f0\",\"#0f0\"],\"x\":{\"__ndarray__\":\"ckIHwkNKx0KLHQpCn19nwThm2r9ywmZCsyQnQvkiuUI=\",\"dtype\":\"float32\",\"shape\":[8]},\"y\":{\"__ndarray__\":\"0MiXQXZ7BEJHDS1BRSIWwpysikLQQ5dCi4VmwrZ90cE=\",\"dtype\":\"float32\",\"shape\":[8]}},\"selected\":{\"id\":\"28f11393-bddf-4f81-9a66-88b6e6e84ca0\",\"type\":\"Selection\"},\"selection_policy\":{\"id\":\"31f4a320-d1a5-45dd-a7cf-44aa17e8f638\",\"type\":\"UnionRenderers\"}},\"id\":\"2152fd72-40a3-46e0-920a-46a774ee1170\",\"type\":\"ColumnDataSource\"},{\"attributes\":{},\"id\":\"8f2171c7-2b39-4a5a-9569-7370b3236f93\",\"type\":\"Selection\"},{\"attributes\":{\"source\":{\"id\":\"9b97ea3e-ab45-4df5-8917-becce515159a\",\"type\":\"ColumnDataSource\"}},\"id\":\"161f8e5f-9746-49f6-9d00-adacb62e9374\",\"type\":\"CDSView\"},{\"attributes\":{\"fill_alpha\":{\"value\":0.5},\"fill_color\":{\"field\":\"fill_color\"},\"line_alpha\":{\"value\":0.5},\"line_color\":{\"field\":\"line_color\"},\"size\":{\"units\":\"screen\",\"value\":10},\"x\":{\"field\":\"x\"},\"y\":{\"field\":\"y\"}},\"id\":\"d5f5d97b-9afc-44ff-8041-166b3866cb24\",\"type\":\"Circle\"},{\"attributes\":{},\"id\":\"28f11393-bddf-4f81-9a66-88b6e6e84ca0\",\"type\":\"Selection\"},{\"attributes\":{\"fill_alpha\":{\"value\":0.1},\"fill_color\":{\"value\":\"#1f77b4\"},\"line_alpha\":{\"value\":0.1},\"line_color\":{\"value\":\"#1f77b4\"},\"size\":{\"units\":\"screen\",\"value\":10},\"x\":{\"field\":\"x\"},\"y\":{\"field\":\"y\"}},\"id\":\"b3335615-26be-4565-89c6-30a741169633\",\"type\":\"Circle\"},{\"attributes\":{},\"id\":\"31f4a320-d1a5-45dd-a7cf-44aa17e8f638\",\"type\":\"UnionRenderers\"},{\"attributes\":{\"data_source\":{\"id\":\"2152fd72-40a3-46e0-920a-46a774ee1170\",\"type\":\"ColumnDataSource\"},\"glyph\":{\"id\":\"d5f5d97b-9afc-44ff-8041-166b3866cb24\",\"type\":\"Circle\"},\"hover_glyph\":null,\"muted_glyph\":null,\"nonselection_glyph\":{\"id\":\"b3335615-26be-4565-89c6-30a741169633\",\"type\":\"Circle\"},\"selection_glyph\":null,\"view\":{\"id\":\"25b55c43-c086-4713-85ff-f9d51aa619ca\",\"type\":\"CDSView\"}},\"id\":\"5be4a2df-cb73-485d-8eb6-b1e765dabe0f\",\"type\":\"GlyphRenderer\"},{\"attributes\":{},\"id\":\"157a1df5-3103-4d8e-a187-5f7972763662\",\"type\":\"UnionRenderers\"},{\"attributes\":{\"plot\":{\"id\":\"473072b7-33e7-4a05-935e-3be3385871cc\",\"subtype\":\"Figure\",\"type\":\"Plot\"},\"ticker\":{\"id\":\"81732901-7e7d-4e00-add0-6a7e10013cde\",\"type\":\"BasicTicker\"}},\"id\":\"a95839b2-db97-4143-96e1-eed176a54f04\",\"type\":\"Grid\"},{\"attributes\":{},\"id\":\"d2a1bee5-701d-4502-bc41-d568abe18127\",\"type\":\"BasicTickFormatter\"},{\"attributes\":{\"source\":{\"id\":\"2152fd72-40a3-46e0-920a-46a774ee1170\",\"type\":\"ColumnDataSource\"}},\"id\":\"25b55c43-c086-4713-85ff-f9d51aa619ca\",\"type\":\"CDSView\"},{\"attributes\":{\"active_drag\":\"auto\",\"active_inspect\":\"auto\",\"active_multi\":null,\"active_scroll\":\"auto\",\"active_tap\":\"auto\",\"tools\":[{\"id\":\"3cde87a0-6aeb-402b-b233-640b3711dec8\",\"type\":\"PanTool\"},{\"id\":\"54377965-c3d7-4972-bbc0-218c16439902\",\"type\":\"WheelZoomTool\"},{\"id\":\"167c3896-b87a-4ac4-97b1-08b0775375c5\",\"type\":\"BoxZoomTool\"},{\"id\":\"4406ce51-c8e0-4c39-a39d-4acd827a0204\",\"type\":\"SaveTool\"},{\"id\":\"b158f5ba-d38e-405f-a48d-b0b6f5e3e684\",\"type\":\"ResetTool\"},{\"id\":\"1748aaaf-0ebc-4636-b947-150b4d22f75b\",\"type\":\"HelpTool\"},{\"id\":\"627a6312-718b-4a26-b298-af1f0cd00fdc\",\"type\":\"HoverTool\"}]},\"id\":\"b7219c8b-8ff6-4d3b-81d1-987e7e36cda5\",\"type\":\"Toolbar\"},{\"attributes\":{\"below\":[{\"id\":\"d9b5e85a-5608-4cf6-86a5-ed0ec7a5eb20\",\"type\":\"LinearAxis\"}],\"left\":[{\"id\":\"de80cf52-be3e-4e7b-8dbd-16e09f50a1dc\",\"type\":\"LinearAxis\"}],\"plot_height\":400,\"plot_width\":400,\"renderers\":[{\"id\":\"d9b5e85a-5608-4cf6-86a5-ed0ec7a5eb20\",\"type\":\"LinearAxis\"},{\"id\":\"dcc419d3-c01c-482f-93b1-ac6f45368f58\",\"type\":\"Grid\"},{\"id\":\"de80cf52-be3e-4e7b-8dbd-16e09f50a1dc\",\"type\":\"LinearAxis\"},{\"id\":\"1ce7b48e-69be-4b2e-a00a-1f88813f5f64\",\"type\":\"Grid\"},{\"id\":\"b6fc4a65-fc38-4d50-b84d-1f8a3105afce\",\"type\":\"BoxAnnotation\"},{\"id\":\"c7e149a6-b5ae-4d11-858c-9ff943c393f1\",\"type\":\"GlyphRenderer\"}],\"title\":{\"id\":\"e25b2dbd-7843-4475-9e71-d9bbc58d1838\",\"type\":\"Title\"},\"toolbar\":{\"id\":\"664e4c5c-a453-4efd-860a-3cd3e41123f3\",\"type\":\"Toolbar\"},\"toolbar_location\":null,\"x_range\":{\"id\":\"21d5fd94-473e-4cc0-acdc-57b0a093285f\",\"type\":\"DataRange1d\"},\"x_scale\":{\"id\":\"3644f6c1-e7cc-4f78-a12a-f9e92aba2644\",\"type\":\"LinearScale\"},\"y_range\":{\"id\":\"63000577-0daa-4e07-a052-d6b7ac8b9a5c\",\"type\":\"DataRange1d\"},\"y_scale\":{\"id\":\"e7143df1-c27c-44ec-ab87-367a809fa8d9\",\"type\":\"LinearScale\"}},\"id\":\"9747498e-688f-47bd-b486-868ae222a925\",\"subtype\":\"Figure\",\"type\":\"Plot\"},{\"attributes\":{},\"id\":\"0a934771-61c6-4300-b61c-668537eff74b\",\"type\":\"Selection\"},{\"attributes\":{},\"id\":\"5adba24a-c016-45ec-9c60-ceeb14d01e18\",\"type\":\"BasicTickFormatter\"},{\"attributes\":{},\"id\":\"74ad0249-4808-4fd0-9ea1-731f4eadd2b4\",\"type\":\"PanTool\"},{\"attributes\":{\"data_source\":{\"id\":\"9b97ea3e-ab45-4df5-8917-becce515159a\",\"type\":\"ColumnDataSource\"},\"glyph\":{\"id\":\"c4a29c83-0d3d-41ad-84e7-2feffd90831d\",\"type\":\"Circle\"},\"hover_glyph\":null,\"muted_glyph\":null,\"nonselection_glyph\":{\"id\":\"8871f803-93e2-4e1a-af2e-b5cd41abe2c2\",\"type\":\"Circle\"},\"selection_glyph\":null,\"view\":{\"id\":\"161f8e5f-9746-49f6-9d00-adacb62e9374\",\"type\":\"CDSView\"}},\"id\":\"f3d41351-be9d-4200-ba91-88c5b0d6b55d\",\"type\":\"GlyphRenderer\"},{\"attributes\":{\"fill_alpha\":{\"value\":0.5},\"fill_color\":{\"field\":\"fill_color\"},\"line_alpha\":{\"value\":0.5},\"line_color\":{\"field\":\"line_color\"},\"size\":{\"units\":\"screen\",\"value\":10},\"x\":{\"field\":\"x\"},\"y\":{\"field\":\"y\"}},\"id\":\"c4a29c83-0d3d-41ad-84e7-2feffd90831d\",\"type\":\"Circle\"},{\"attributes\":{\"plot\":null,\"text\":\"UMAP\"},\"id\":\"e25b2dbd-7843-4475-9e71-d9bbc58d1838\",\"type\":\"Title\"},{\"attributes\":{\"height\":400,\"width\":400},\"id\":\"7b3e3cdd-667a-4221-82ca-38d2a7cdfdc7\",\"type\":\"Spacer\"},{\"attributes\":{\"plot\":{\"id\":\"42d35908-cda9-41cb-bce2-28a1a93b6e75\",\"subtype\":\"Figure\",\"type\":\"Plot\"},\"ticker\":{\"id\":\"7dd1df0d-65e4-4826-98fa-fa1ff2cb6a02\",\"type\":\"BasicTicker\"}},\"id\":\"5497577f-47b1-4d1c-b506-157c1d45ab63\",\"type\":\"Grid\"},{\"attributes\":{},\"id\":\"81732901-7e7d-4e00-add0-6a7e10013cde\",\"type\":\"BasicTicker\"},{\"attributes\":{},\"id\":\"c63703c8-d950-4c53-913d-cb3254df15ba\",\"type\":\"BasicTickFormatter\"},{\"attributes\":{\"dimension\":1,\"plot\":{\"id\":\"42d35908-cda9-41cb-bce2-28a1a93b6e75\",\"subtype\":\"Figure\",\"type\":\"Plot\"},\"ticker\":{\"id\":\"92bf1a7c-52d9-4580-b2c3-db8e931a975e\",\"type\":\"BasicTicker\"}},\"id\":\"95e8584d-8d96-4f4f-81fa-37adc0e38133\",\"type\":\"Grid\"},{\"attributes\":{},\"id\":\"39e7470e-5d7a-4350-b6a2-49c11802e96c\",\"type\":\"BasicTicker\"},{\"attributes\":{},\"id\":\"7dd1df0d-65e4-4826-98fa-fa1ff2cb6a02\",\"type\":\"BasicTicker\"},{\"attributes\":{},\"id\":\"92bf1a7c-52d9-4580-b2c3-db8e931a975e\",\"type\":\"BasicTicker\"},{\"attributes\":{\"fill_alpha\":{\"value\":0.1},\"fill_color\":{\"value\":\"#1f77b4\"},\"line_alpha\":{\"value\":0.1},\"line_color\":{\"value\":\"#1f77b4\"},\"size\":{\"units\":\"screen\",\"value\":10},\"x\":{\"field\":\"x\"},\"y\":{\"field\":\"y\"}},\"id\":\"8871f803-93e2-4e1a-af2e-b5cd41abe2c2\",\"type\":\"Circle\"},{\"attributes\":{\"tools\":[{\"id\":\"74ad0249-4808-4fd0-9ea1-731f4eadd2b4\",\"type\":\"PanTool\"},{\"id\":\"21a78482-2280-4268-a19b-18a956202151\",\"type\":\"WheelZoomTool\"},{\"id\":\"a61d2501-22e0-4843-badc-1a3d3c42934d\",\"type\":\"BoxZoomTool\"},{\"id\":\"197170f2-525c-43b9-b374-90d98a092d15\",\"type\":\"SaveTool\"},{\"id\":\"3b95e7f6-9cc3-4c74-9abb-17d6ec0f49b6\",\"type\":\"ResetTool\"},{\"id\":\"c516c4bc-ecb0-41c2-9697-4fc1906aa4df\",\"type\":\"HelpTool\"},{\"id\":\"0f8c967f-4eb1-4867-b07d-407370d43cc2\",\"type\":\"HoverTool\"},{\"id\":\"3cde87a0-6aeb-402b-b233-640b3711dec8\",\"type\":\"PanTool\"},{\"id\":\"54377965-c3d7-4972-bbc0-218c16439902\",\"type\":\"WheelZoomTool\"},{\"id\":\"167c3896-b87a-4ac4-97b1-08b0775375c5\",\"type\":\"BoxZoomTool\"},{\"id\":\"4406ce51-c8e0-4c39-a39d-4acd827a0204\",\"type\":\"SaveTool\"},{\"id\":\"b158f5ba-d38e-405f-a48d-b0b6f5e3e684\",\"type\":\"ResetTool\"},{\"id\":\"1748aaaf-0ebc-4636-b947-150b4d22f75b\",\"type\":\"HelpTool\"},{\"id\":\"627a6312-718b-4a26-b298-af1f0cd00fdc\",\"type\":\"HoverTool\"},{\"id\":\"fb252a81-c6a5-45a7-b320-27db7759f6d4\",\"type\":\"PanTool\"},{\"id\":\"e7a96597-25c8-4f5b-bf0c-bacd5951597a\",\"type\":\"WheelZoomTool\"},{\"id\":\"fcd42e6f-82fd-4363-97ce-2690c20adb6e\",\"type\":\"BoxZoomTool\"},{\"id\":\"7697f28a-c4e0-4db8-9184-62ed93fe713f\",\"type\":\"SaveTool\"},{\"id\":\"fb5c0c8b-ed71-4f09-830c-933a242adc94\",\"type\":\"ResetTool\"},{\"id\":\"343512d9-a618-41d2-ad74-2be2250ebfb2\",\"type\":\"HelpTool\"},{\"id\":\"66075120-5e72-410c-9084-4eb69cf302a9\",\"type\":\"HoverTool\"}]},\"id\":\"26776788-3e00-400b-9027-db3d5e863773\",\"type\":\"ProxyToolbar\"},{\"attributes\":{},\"id\":\"74107092-5500-4d38-84c0-4f5e868991d2\",\"type\":\"LinearScale\"},{\"attributes\":{\"formatter\":{\"id\":\"2dc0c276-a4ee-4a12-820c-eca6f43f5dff\",\"type\":\"BasicTickFormatter\"},\"plot\":{\"id\":\"42d35908-cda9-41cb-bce2-28a1a93b6e75\",\"subtype\":\"Figure\",\"type\":\"Plot\"},\"ticker\":{\"id\":\"92bf1a7c-52d9-4580-b2c3-db8e931a975e\",\"type\":\"BasicTicker\"}},\"id\":\"c4b65f68-d893-41ff-9b17-945987bdb74f\",\"type\":\"LinearAxis\"},{\"attributes\":{},\"id\":\"8780d078-e206-45ea-8d82-b759bc6285d8\",\"type\":\"LinearScale\"},{\"attributes\":{\"formatter\":{\"id\":\"d2a1bee5-701d-4502-bc41-d568abe18127\",\"type\":\"BasicTickFormatter\"},\"plot\":{\"id\":\"473072b7-33e7-4a05-935e-3be3385871cc\",\"subtype\":\"Figure\",\"type\":\"Plot\"},\"ticker\":{\"id\":\"81732901-7e7d-4e00-add0-6a7e10013cde\",\"type\":\"BasicTicker\"}},\"id\":\"5080b69e-3da0-4aa6-8e70-ece1e240e9b4\",\"type\":\"LinearAxis\"},{\"attributes\":{\"callback\":null},\"id\":\"21d5fd94-473e-4cc0-acdc-57b0a093285f\",\"type\":\"DataRange1d\"},{\"attributes\":{},\"id\":\"3644f6c1-e7cc-4f78-a12a-f9e92aba2644\",\"type\":\"LinearScale\"},{\"attributes\":{\"callback\":null},\"id\":\"e4e8e397-2042-4cd6-985d-5f230c7fe40d\",\"type\":\"DataRange1d\"},{\"attributes\":{\"formatter\":{\"id\":\"5adba24a-c016-45ec-9c60-ceeb14d01e18\",\"type\":\"BasicTickFormatter\"},\"plot\":{\"id\":\"473072b7-33e7-4a05-935e-3be3385871cc\",\"subtype\":\"Figure\",\"type\":\"Plot\"},\"ticker\":{\"id\":\"39e7470e-5d7a-4350-b6a2-49c11802e96c\",\"type\":\"BasicTicker\"}},\"id\":\"60a85353-3697-4873-b776-7d28667c7fd7\",\"type\":\"LinearAxis\"},{\"attributes\":{},\"id\":\"b3f80556-9cf2-4919-9981-451f10cb2298\",\"type\":\"LinearScale\"},{\"attributes\":{\"callback\":null},\"id\":\"63000577-0daa-4e07-a052-d6b7ac8b9a5c\",\"type\":\"DataRange1d\"},{\"attributes\":{},\"id\":\"e7143df1-c27c-44ec-ab87-367a809fa8d9\",\"type\":\"LinearScale\"},{\"attributes\":{\"below\":[{\"id\":\"d9d7fc8c-00d0-4f6b-81cb-e3f7f8a1e58a\",\"type\":\"LinearAxis\"}],\"left\":[{\"id\":\"c4b65f68-d893-41ff-9b17-945987bdb74f\",\"type\":\"LinearAxis\"}],\"plot_height\":400,\"plot_width\":400,\"renderers\":[{\"id\":\"d9d7fc8c-00d0-4f6b-81cb-e3f7f8a1e58a\",\"type\":\"LinearAxis\"},{\"id\":\"5497577f-47b1-4d1c-b506-157c1d45ab63\",\"type\":\"Grid\"},{\"id\":\"c4b65f68-d893-41ff-9b17-945987bdb74f\",\"type\":\"LinearAxis\"},{\"id\":\"95e8584d-8d96-4f4f-81fa-37adc0e38133\",\"type\":\"Grid\"},{\"id\":\"220e4197-022c-4be8-bf49-0f7241756995\",\"type\":\"BoxAnnotation\"},{\"id\":\"f3d41351-be9d-4200-ba91-88c5b0d6b55d\",\"type\":\"GlyphRenderer\"}],\"title\":{\"id\":\"746c69c9-0af8-4c5e-aefa-b7c6a68dfada\",\"type\":\"Title\"},\"toolbar\":{\"id\":\"e2c43e56-975e-479e-bf32-e977977a92cd\",\"type\":\"Toolbar\"},\"toolbar_location\":null,\"x_range\":{\"id\":\"5030ade4-7794-4791-a388-6fa6f368c2c6\",\"type\":\"DataRange1d\"},\"x_scale\":{\"id\":\"4d9b8404-a17b-45c8-acbc-bde35c8ec2c8\",\"type\":\"LinearScale\"},\"y_range\":{\"id\":\"95244d50-12db-4442-8acc-a89bcf70b836\",\"type\":\"DataRange1d\"},\"y_scale\":{\"id\":\"8780d078-e206-45ea-8d82-b759bc6285d8\",\"type\":\"LinearScale\"}},\"id\":\"42d35908-cda9-41cb-bce2-28a1a93b6e75\",\"subtype\":\"Figure\",\"type\":\"Plot\"}],\"root_ids\":[\"828d98e0-e8c5-4f30-a4c9-cb1cc36925f3\"]},\"title\":\"Bokeh Application\",\"version\":\"0.13.0\"}};\n",
       "  var render_items = [{\"docid\":\"b324ce7c-62a4-4381-9d91-7c5eb5da9c19\",\"roots\":{\"828d98e0-e8c5-4f30-a4c9-cb1cc36925f3\":\"86e063a6-3962-40d3-a29b-c124adc871d9\"}}];\n",
       "  root.Bokeh.embed.embed_items_notebook(docs_json, render_items);\n",
       "\n",
       "  }\n",
       "  if (root.Bokeh !== undefined) {\n",
       "    embed_document(root);\n",
       "  } else {\n",
       "    var attempts = 0;\n",
       "    var timer = setInterval(function(root) {\n",
       "      if (root.Bokeh !== undefined) {\n",
       "        embed_document(root);\n",
       "        clearInterval(timer);\n",
       "      }\n",
       "      attempts++;\n",
       "      if (attempts > 100) {\n",
       "        console.log(\"Bokeh: ERROR: Unable to run BokehJS code because BokehJS library is missing\")\n",
       "        clearInterval(timer);\n",
       "      }\n",
       "    }, 10, root)\n",
       "  }\n",
       "})(window);"
      ],
      "application/vnd.bokehjs_exec.v0+json": ""
     },
     "metadata": {
      "application/vnd.bokehjs_exec.v0+json": {
       "id": "828d98e0-e8c5-4f30-a4c9-cb1cc36925f3"
      }
     },
     "output_type": "display_data"
    }
   ],
   "source": [
    "from bokeh.plotting import figure, output_file, show, ColumnDataSource, gridplot\n",
    "from bokeh.io import output_notebook\n",
    "from bokeh.palettes import Spectral6\n",
    "from bokeh.transform import linear_cmap\n",
    "from sklearn.decomposition import PCA\n",
    "from sklearn.manifold import TSNE\n",
    "import umap\n",
    "\n",
    "# output to static HTML file\n",
    "#output_file(\"Plots.html\", title=\"NCD Output\")\n",
    "# output to notebook\n",
    "output_notebook()\n",
    "\n",
    "# tool tips to display on hoover\n",
    "TOOLTIPS = [\n",
    "    (\"Sequence\", \"$index\"),\n",
    "    (\"(x,y)\", \"($x, $y)\"),\n",
    "]\n",
    "\n",
    "# generate enough random colours to cover our clusters\n",
    "colors = np.array([x for x in ('#00f', '#0f0', '#f00', '#0ff', '#f0f', '#ff0')])\n",
    "colors = np.hstack([colors] * 20)\n",
    "\n",
    "# read the distance matrix\n",
    "distance_matrix = pd.read_csv('../test_dataset/distance_matrix_mysteryGenome1-8.csv', sep=',',header=0)\n",
    "\n",
    "# cluster with k-means\n",
    "kmeans = KMeans(n_clusters=2).fit(distance_matrix)\n",
    "y_kmeans = kmeans.predict(distance_matrix)\n",
    "\n",
    "#PCA\n",
    "pca = PCA(n_components=2)\n",
    "X_pca = pca.fit_transform(distance_matrix)\n",
    "\n",
    "\n",
    "# create a new plot for PCA\n",
    "p1 = figure(width=400, height=400, tooltips=TOOLTIPS, title=\"PCA\")\n",
    "# add renderers\n",
    "p1.circle(X_pca[:, 0], X_pca[:, 1], color=colors[y_kmeans].tolist(), size=10, alpha=0.5)\n",
    "\n",
    "\n",
    "#t-SNE\n",
    "tsne = TSNE(n_components=2, random_state=0, perplexity=50)\n",
    "X_tsne = tsne.fit_transform(distance_matrix)\n",
    "\n",
    "# create a new plot for t-sne\n",
    "p2 = figure(width=400, height=400, tooltips=TOOLTIPS, title=\"tSNE\")\n",
    "# add renderers\n",
    "p2.circle(X_tsne[:, 0], X_tsne[:, 1], color=colors[y_kmeans].tolist(), size=10, alpha=0.5)\n",
    "\n",
    "\n",
    "#UMAP\n",
    "X_umap = umap.UMAP(n_neighbors=5,min_dist=0.3,metric='correlation').fit_transform(distance_matrix)\n",
    "\n",
    "# create a new plot for t-sne\n",
    "p3 = figure(width=400, height=400, tooltips=TOOLTIPS, title=\"UMAP\")\n",
    "# add renderers\n",
    "p3.circle(X_umap[:, 0], X_umap[:, 1], color=colors[y_kmeans].tolist(), size=10, alpha=0.5)\n",
    "\n",
    "# put all the plots in a grid layout\n",
    "p = gridplot([[p1, p2],[p3, None]])\n",
    "\n",
    "# show the results\n",
    "show(p)"
   ]
  },
  {
   "cell_type": "code",
   "execution_count": null,
   "metadata": {},
   "outputs": [],
   "source": []
  },
  {
   "cell_type": "code",
   "execution_count": null,
   "metadata": {},
   "outputs": [],
   "source": []
  }
 ],
 "metadata": {
  "kernelspec": {
   "display_name": "Python 3",
   "language": "python",
   "name": "python3"
  },
  "language_info": {
   "codemirror_mode": {
    "name": "ipython",
    "version": 3
   },
   "file_extension": ".py",
   "mimetype": "text/x-python",
   "name": "python",
   "nbconvert_exporter": "python",
   "pygments_lexer": "ipython3",
   "version": "3.6.6"
  }
 },
 "nbformat": 4,
 "nbformat_minor": 2
}
