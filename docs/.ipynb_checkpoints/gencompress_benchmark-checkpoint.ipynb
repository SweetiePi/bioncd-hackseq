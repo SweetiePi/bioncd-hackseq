{
 "cells": [
  {
   "cell_type": "markdown",
   "metadata": {},
   "source": [
    "# Benchmarking the GenCompress Algorithm"
   ]
  },
  {
   "cell_type": "markdown",
   "metadata": {},
   "source": [
    "I have included a small fasta file, as the executable takes expects fasta rather than plain text. The function is below:"
   ]
  },
  {
   "cell_type": "code",
   "execution_count": 19,
   "metadata": {},
   "outputs": [],
   "source": [
    "\"\"\"\n",
    "computeGenCompress.py: \n",
    "    Function for compressing a raw fasta file using the gencompress algorithm\n",
    "\"\"\"\n",
    "import os\n",
    "import subprocess\n",
    "\n",
    "\n",
    "def GenCompress(fasta):\n",
    "    \"\"\"\n",
    "    Run GenCompress executable on a fasta file and return a fileobjet containing\n",
    "    the compressed format\n",
    "    \n",
    "    Args:\n",
    "        fasta(str): A file path to the fasta file to compress\n",
    "    \n",
    "    Returns:\n",
    "        (file): The return statement. A compressed fasta file object\n",
    "    \"\"\"\n",
    "    (fname, ext) = os.path.splitext(fasta)\n",
    "    out_name = \".GEN\"\n",
    "    executable =  \"../bin/GenCompress\"\n",
    "    cmd = \"./\" + executable\n",
    "    subprocess.run([cmd, fasta])\n",
    "    output = open(out_name)\n",
    "    subprocess.run([\"rm\", out_name])\n",
    "    return output"
   ]
  },
  {
   "cell_type": "code",
   "execution_count": 33,
   "metadata": {},
   "outputs": [
    {
     "name": "stdout",
     "output_type": "stream",
     "text": [
      "CPU times: user 2.99 ms, sys: 695 µs, total: 3.68 ms\n",
      "Wall time: 9.44 ms\n",
      "118\n",
      "83\n",
      "0.7033898305084746 of original size\n"
     ]
    }
   ],
   "source": [
    "%time f = GenCompress(\"../test_dataset/sample.fa\")\n",
    "\n",
    "orig = open(\"../test_dataset/sample.fa\")\n",
    "#original file size\n",
    "orig_size = os.fstat(orig.fileno()).st_size\n",
    "print(orig_size)\n",
    "#compressed file size\n",
    "fsize = os.fstat(f.fileno()).st_size\n",
    "print(fsize)\n",
    "\n",
    "# ratio\n",
    "ratio = float(fsize) / orig_size\n",
    "print(ratio, \"of original size\")\n",
    "\n",
    "f.close()\n",
    "orig.close()\n"
   ]
  },
  {
   "cell_type": "code",
   "execution_count": 7,
   "metadata": {},
   "outputs": [
    {
     "name": "stdout",
     "output_type": "stream",
     "text": [
      "/home/wcasazza/Documents/bioncd-hackseq/docs\r\n"
     ]
    }
   ],
   "source": [
    "!pwd"
   ]
  }
 ],
 "metadata": {
  "kernelspec": {
   "display_name": "Python 3",
   "language": "python",
   "name": "python3"
  },
  "language_info": {
   "codemirror_mode": {
    "name": "ipython",
    "version": 3
   },
   "file_extension": ".py",
   "mimetype": "text/x-python",
   "name": "python",
   "nbconvert_exporter": "python",
   "pygments_lexer": "ipython3",
   "version": "3.7.0"
  }
 },
 "nbformat": 4,
 "nbformat_minor": 2
}
