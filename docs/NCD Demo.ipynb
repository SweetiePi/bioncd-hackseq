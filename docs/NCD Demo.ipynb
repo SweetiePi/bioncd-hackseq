{
 "cells": [
  {
   "cell_type": "markdown",
   "metadata": {},
   "source": [
    "# Demo for applying NCD towards biological data"
   ]
  },
  {
   "cell_type": "markdown",
   "metadata": {},
   "source": [
    "This demo showcases a sample NCD calculation, as well as what the output of our compression pipeline should look like. Here we use the Lempel-Ziv Markov Algorihtm (LZMA) as our compression tool."
   ]
  },
  {
   "cell_type": "code",
   "execution_count": 36,
   "metadata": {},
   "outputs": [],
   "source": [
    "import sys\n",
    "sys.path.append('../scripts')\n",
    "#call Python script\n",
    "import pairwise_ncd\n",
    "#import matrix handling tools\n",
    "import numpy as np\n",
    "import pandas as pd\n",
    "import csv\n",
    "#import kmeans clustering\n",
    "from sklearn.cluster import KMeans"
   ]
  },
  {
   "cell_type": "markdown",
   "metadata": {},
   "source": [
    "## Input sample sequences (2 for the purposes of this demo)"
   ]
  },
  {
   "cell_type": "markdown",
   "metadata": {},
   "source": [
    "Sample sequences are \"mystery\" bacterial genomes of unknown taxonomy. We'll use these to test our pipeline."
   ]
  },
  {
   "cell_type": "code",
   "execution_count": 2,
   "metadata": {},
   "outputs": [],
   "source": [
    "with open (\"../test_dataset/mysteryGenome_1.fasta\", \"r\") as file:\n",
    "    seq1 = file.read()\n",
    "with open (\"../test_dataset/mysteryGenome_2.fasta\", \"r\") as file:\n",
    "    seq2 = file.read()"
   ]
  },
  {
   "cell_type": "markdown",
   "metadata": {},
   "source": [
    "## Determine the size of uncompressed sequences"
   ]
  },
  {
   "cell_type": "code",
   "execution_count": 3,
   "metadata": {},
   "outputs": [
    {
     "name": "stdout",
     "output_type": "stream",
     "text": [
      "Size of Sequence 1: 4507943 bytes\n",
      "Size of Sequence 2: 4474285 bytes\n",
      "Size of concatenated Sequence 1 & Sequence 2: 8982195 bytes\n"
     ]
    }
   ],
   "source": [
    "sequences12 = pairwise_ncd.return_byte(seq1,seq2)\n",
    "print(\"Size of Sequence 1: %s bytes\" % (sys.getsizeof(sequences12[0]),))\n",
    "print(\"Size of Sequence 2: %s bytes\" % (sys.getsizeof(sequences12[1]),))\n",
    "print(\"Size of concatenated Sequence 1 & Sequence 2: %s bytes\" % (sys.getsizeof(sequences12[2]),))"
   ]
  },
  {
   "cell_type": "markdown",
   "metadata": {},
   "source": [
    "Our sequences are pretty similar in size, concatenating both of them together approximately doubles their size, which is to be expected."
   ]
  },
  {
   "cell_type": "markdown",
   "metadata": {},
   "source": [
    "## Now determine size of compressed sequences"
   ]
  },
  {
   "cell_type": "code",
   "execution_count": 4,
   "metadata": {},
   "outputs": [
    {
     "name": "stdout",
     "output_type": "stream",
     "text": [
      "Sequence 1: 1174721 bytes\n",
      "Sequence 2: 1173133 bytes\n",
      "Concatenated Sequences 1 & 2: 1242873 bytes\n"
     ]
    }
   ],
   "source": [
    "#Our compression algorithm is the rate-limiting step in this pipeline.\n",
    "sizes12 = pairwise_ncd.compressed_size(sequences12)\n",
    "print(\"Sequence 1: %s bytes\" % (sizes12[0],))\n",
    "print(\"Sequence 2: %s bytes\" % (sizes12[1],))\n",
    "print(\"Concatenated Sequences 1 & 2: %s bytes\" % (sizes12[2],))"
   ]
  },
  {
   "cell_type": "markdown",
   "metadata": {},
   "source": [
    "Our original sequences are compressed to 1/4 of their original size, but our concatenated sequence shrunk by a factor of 8! A good sign that our choice of compression algorithm is working well."
   ]
  },
  {
   "cell_type": "markdown",
   "metadata": {},
   "source": [
    "## Computing NCD values"
   ]
  },
  {
   "cell_type": "code",
   "execution_count": 5,
   "metadata": {},
   "outputs": [
    {
     "name": "stdout",
     "output_type": "stream",
     "text": [
      "NCD12 = 0.05936728806244206\n"
     ]
    }
   ],
   "source": [
    "ncd12 = pairwise_ncd.compute_distance(sizes12[0], sizes12[1], sizes12[2])\n",
    "print(\"NCD12 = %s\" % (ncd12,))"
   ]
  },
  {
   "cell_type": "markdown",
   "metadata": {},
   "source": [
    "All NCD does is return a value between 0 and 1. The closer it is to 0, the more similar both inputs are to each other (conversely, closer to 1 = more distant). We'll now skip forward and provide a matrix for all pairwise combinations of our 8 mystery genomes."
   ]
  },
  {
   "cell_type": "markdown",
   "metadata": {},
   "source": [
    "## Distance Matrix of NCD values"
   ]
  },
  {
   "cell_type": "code",
   "execution_count": 16,
   "metadata": {},
   "outputs": [
    {
     "name": "stdout",
     "output_type": "stream",
     "text": [
      "   mysteryGenome_1  mysteryGenome_2  mysteryGenome_3  mysteryGenome_4  \\\n",
      "0         0.000637         0.059367         0.056388         0.074164   \n",
      "1         0.059367         0.000624         0.065503         0.086240   \n",
      "2         0.056388         0.065503         0.000625         0.085386   \n",
      "3         0.074164         0.086240         0.085386         0.000623   \n",
      "4         0.042029         0.052851         0.050750         0.072299   \n",
      "5         0.061301         0.069963         0.063825         0.081414   \n",
      "6         0.076284         0.058378         0.045924         0.074232   \n",
      "7         0.033826         0.061723         0.045454         0.069501   \n",
      "\n",
      "   mysteryGenome_5  mysteryGenome_6  mysteryGenome_7  mysteryGenome_8  \n",
      "0         0.042029         0.061301         0.076284         0.033826  \n",
      "1         0.052851         0.069963         0.058378         0.061723  \n",
      "2         0.050750         0.063825         0.045924         0.045454  \n",
      "3         0.072299         0.081414         0.074232         0.069501  \n",
      "4         0.000627         0.057830         0.055429         0.049105  \n",
      "5         0.057830         0.000624         0.061444         0.047943  \n",
      "6         0.055429         0.061444         0.000627         0.034667  \n",
      "7         0.049105         0.047943         0.034667         0.000627  \n"
     ]
    }
   ],
   "source": [
    "distance_matrix = pd.read_csv('../test_dataset/distance_matrix_mysteryGenome1-8.csv', sep=',',header=0)\n",
    "print(distance_matrix)"
   ]
  },
  {
   "cell_type": "markdown",
   "metadata": {},
   "source": [
    "In theory we should have 0's across the diagonal since both sequences are exactly the same, but our matrix shows that is not the case. This is because our NCD computation isn't a perfect measure of similairty, it's an approximation. In this case, values across the diagonal are 3 orders of magnitude smaller than all the rest, which will work just fine for our needs.\n",
    "\n",
    "Now that we have a nice distance matrix, let's perform K-means clustering!"
   ]
  },
  {
   "cell_type": "markdown",
   "metadata": {},
   "source": [
    "## K-means - Clustering"
   ]
  },
  {
   "cell_type": "markdown",
   "metadata": {},
   "source": [
    "K-means is a simple & popular method of clustering that requries you to pre-specify the number of clusters beforehand. Let's use k = 2 and see if we can find if one of our sequences is noticeably different from all others."
   ]
  },
  {
   "cell_type": "code",
   "execution_count": 76,
   "metadata": {},
   "outputs": [
    {
     "name": "stdout",
     "output_type": "stream",
     "text": [
      "[0 0 0 1 0 0 0 0]\n"
     ]
    }
   ],
   "source": [
    "kmeans = KMeans(n_clusters=2).fit(distance_matrix)\n",
    "y_kmeans = kmeans.predict(distance_matrix)\n",
    "print(y_kmeans)\n",
    "\n"
   ]
  },
  {
   "cell_type": "markdown",
   "metadata": {},
   "source": [
    "K-means recognizes MysteryGenome4 as our outlier. Let's get a more detailed visualization..."
   ]
  },
  {
   "cell_type": "code",
   "execution_count": 84,
   "metadata": {},
   "outputs": [
    {
     "data": {
      "text/plain": [
       "<matplotlib.collections.PathCollection at 0x7f76505457b8>"
      ]
     },
     "execution_count": 84,
     "metadata": {},
     "output_type": "execute_result"
    },
    {
     "data": {
      "image/png": "[encoded data removed]",
      "text/plain": [
       "<Figure size 432x288 with 1 Axes>"
      ]
     },
     "metadata": {},
     "output_type": "display_data"
    }
   ],
   "source": [
    "import matplotlib.pyplot as plt\n",
    "from sklearn.decomposition import PCA\n",
    "\n",
    "#principal component analysis used to visualize results into a 2D grid\n",
    "pca = PCA(n_components=2)\n",
    "X = pca.fit_transform(distance_matrix)\n",
    "\n",
    "plt.scatter(X[:, 0], X[:, 1], c=y_kmeans, s=100)\n",
    "\n"
   ]
  },
  {
   "cell_type": "markdown",
   "metadata": {},
   "source": [
    "Looks good, although labels and a better visualization are required."
   ]
  }
 ],
 "metadata": {
  "kernelspec": {
   "display_name": "Python 3",
   "language": "python",
   "name": "python3"
  },
  "language_info": {
   "codemirror_mode": {
    "name": "ipython",
    "version": 3
   },
   "file_extension": ".py",
   "mimetype": "text/x-python",
   "name": "python",
   "nbconvert_exporter": "python",
   "pygments_lexer": "ipython3",
   "version": "3.6.6"
  }
 },
 "nbformat": 4,
 "nbformat_minor": 2
}
